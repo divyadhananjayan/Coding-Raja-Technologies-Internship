{
 "cells": [
  {
   "cell_type": "code",
   "execution_count": 1,
   "id": "eb871935",
   "metadata": {},
   "outputs": [
    {
     "name": "stdout",
     "output_type": "stream",
     "text": [
      "Requirement already satisfied: matplotlib in c:\\users\\divya\\anaconda3\\lib\\site-packages (3.7.2)\n",
      "Requirement already satisfied: contourpy>=1.0.1 in c:\\users\\divya\\anaconda3\\lib\\site-packages (from matplotlib) (1.0.5)\n",
      "Requirement already satisfied: cycler>=0.10 in c:\\users\\divya\\anaconda3\\lib\\site-packages (from matplotlib) (0.11.0)\n",
      "Requirement already satisfied: fonttools>=4.22.0 in c:\\users\\divya\\anaconda3\\lib\\site-packages (from matplotlib) (4.25.0)\n",
      "Requirement already satisfied: kiwisolver>=1.0.1 in c:\\users\\divya\\anaconda3\\lib\\site-packages (from matplotlib) (1.4.4)\n",
      "Requirement already satisfied: numpy>=1.20 in c:\\users\\divya\\anaconda3\\lib\\site-packages (from matplotlib) (1.24.3)\n",
      "Requirement already satisfied: packaging>=20.0 in c:\\users\\divya\\anaconda3\\lib\\site-packages (from matplotlib) (23.1)\n",
      "Requirement already satisfied: pillow>=6.2.0 in c:\\users\\divya\\anaconda3\\lib\\site-packages (from matplotlib) (9.4.0)\n",
      "Requirement already satisfied: pyparsing<3.1,>=2.3.1 in c:\\users\\divya\\anaconda3\\lib\\site-packages (from matplotlib) (3.0.9)\n",
      "Requirement already satisfied: python-dateutil>=2.7 in c:\\users\\divya\\anaconda3\\lib\\site-packages (from matplotlib) (2.8.2)\n",
      "Requirement already satisfied: six>=1.5 in c:\\users\\divya\\anaconda3\\lib\\site-packages (from python-dateutil>=2.7->matplotlib) (1.16.0)\n"
     ]
    }
   ],
   "source": [
    "!pip install matplotlib\n"
   ]
  },
  {
   "cell_type": "code",
   "execution_count": 2,
   "id": "d26e5603",
   "metadata": {},
   "outputs": [
    {
     "name": "stdout",
     "output_type": "stream",
     "text": [
      "WARNING:tensorflow:From C:\\Users\\divya\\anaconda3\\Lib\\site-packages\\keras\\src\\losses.py:2976: The name tf.losses.sparse_softmax_cross_entropy is deprecated. Please use tf.compat.v1.losses.sparse_softmax_cross_entropy instead.\n",
      "\n"
     ]
    }
   ],
   "source": [
    "import numpy as np\n",
    "import tensorflow as tf\n",
    "from keras.preprocessing.image import ImageDataGenerator"
   ]
  },
  {
   "cell_type": "code",
   "execution_count": 3,
   "id": "66ea041f",
   "metadata": {},
   "outputs": [
    {
     "name": "stdout",
     "output_type": "stream",
     "text": [
      "Found 792 images belonging to 9 classes.\n"
     ]
    }
   ],
   "source": [
    "## Data preprocessing\n",
    "## Training Image Preprocessing\n",
    " \n",
    "train_datagen = ImageDataGenerator(featurewise_center=False,\n",
    "                 samplewise_center=False,\n",
    "                 featurewise_std_normalization=False,\n",
    "                 samplewise_std_normalization=False,\n",
    "                 zca_whitening=False,\n",
    "                 rotation_range=5,\n",
    "                 width_shift_range=0.05,\n",
    "                 height_shift_range=0.05,\n",
    "                 shear_range=0.2,\n",
    "                 zoom_range=0.2,\n",
    "                 channel_shift_range=0.,\n",
    "                 fill_mode='nearest',\n",
    "                 cval=0.,\n",
    "                 horizontal_flip=True,\n",
    "                 vertical_flip=False,\n",
    "                 rescale=1/255)\n",
    "training_set = train_datagen.flow_from_directory(\n",
    "   \"C:\\\\Users\\\\divya\\\\Desktop\\\\train\",target_size=(64,64),batch_size=64,class_mode='categorical')"
   ]
  },
  {
   "cell_type": "code",
   "execution_count": 4,
   "id": "2e919871",
   "metadata": {},
   "outputs": [
    {
     "name": "stdout",
     "output_type": "stream",
     "text": [
      "Found 921 images belonging to 9 classes.\n"
     ]
    }
   ],
   "source": [
    "test_datagen = ImageDataGenerator(rescale=1./255)\n",
    "test_set = test_datagen.flow_from_directory(\n",
    "        \"C:\\\\Users\\\\divya\\\\Desktop\\\\test\",\n",
    "        target_size=(64, 64),\n",
    "        batch_size=32,\n",
    "        class_mode='categorical')"
   ]
  },
  {
   "cell_type": "code",
   "execution_count": 5,
   "id": "78a29478",
   "metadata": {},
   "outputs": [
    {
     "name": "stdout",
     "output_type": "stream",
     "text": [
      "WARNING:tensorflow:From C:\\Users\\divya\\anaconda3\\Lib\\site-packages\\keras\\src\\backend.py:873: The name tf.get_default_graph is deprecated. Please use tf.compat.v1.get_default_graph instead.\n",
      "\n",
      "WARNING:tensorflow:From C:\\Users\\divya\\anaconda3\\Lib\\site-packages\\keras\\src\\layers\\pooling\\max_pooling2d.py:161: The name tf.nn.max_pool is deprecated. Please use tf.nn.max_pool2d instead.\n",
      "\n",
      "WARNING:tensorflow:From C:\\Users\\divya\\anaconda3\\Lib\\site-packages\\keras\\src\\optimizers\\__init__.py:309: The name tf.train.Optimizer is deprecated. Please use tf.compat.v1.train.Optimizer instead.\n",
      "\n"
     ]
    }
   ],
   "source": [
    "cnn = tf.keras.models.Sequential()\n",
    "cnn.add(tf.keras.layers.Conv2D(filters=64 , kernel_size=3 , activation='relu' , input_shape=[64,64,3]))\n",
    "cnn.add(tf.keras.layers.MaxPool2D(pool_size=2,strides=2))\n",
    "cnn.add(tf.keras.layers.Conv2D(filters=64 , kernel_size=3 , activation='relu' ))\n",
    "cnn.add(tf.keras.layers.MaxPool2D(pool_size=2 , strides=2))\n",
    "cnn.add(tf.keras.layers.Dropout(0.5))\n",
    "cnn.add(tf.keras.layers.Flatten())\n",
    "cnn.add(tf.keras.layers.Dense(units=128, activation='relu'))\n",
    "cnn.add(tf.keras.layers.Dense(units=9 , activation='softmax'))\n",
    "cnn.compile(optimizer = 'rmsprop' , loss = 'categorical_crossentropy' , metrics = ['accuracy'])"
   ]
  },
  {
   "cell_type": "code",
   "execution_count": 6,
   "id": "6fbbcd7a",
   "metadata": {},
   "outputs": [
    {
     "name": "stdout",
     "output_type": "stream",
     "text": [
      "Epoch 1/50\n",
      "WARNING:tensorflow:From C:\\Users\\divya\\anaconda3\\Lib\\site-packages\\keras\\src\\utils\\tf_utils.py:492: The name tf.ragged.RaggedTensorValue is deprecated. Please use tf.compat.v1.ragged.RaggedTensorValue instead.\n",
      "\n",
      "WARNING:tensorflow:From C:\\Users\\divya\\anaconda3\\Lib\\site-packages\\keras\\src\\engine\\base_layer_utils.py:384: The name tf.executing_eagerly_outside_functions is deprecated. Please use tf.compat.v1.executing_eagerly_outside_functions instead.\n",
      "\n",
      "13/13 [==============================] - 9s 659ms/step - loss: 2.2425 - accuracy: 0.1376 - val_loss: 2.0691 - val_accuracy: 0.0543\n",
      "Epoch 2/50\n",
      "13/13 [==============================] - 7s 595ms/step - loss: 2.1219 - accuracy: 0.2159 - val_loss: 2.0792 - val_accuracy: 0.1618\n",
      "Epoch 3/50\n",
      "13/13 [==============================] - 8s 628ms/step - loss: 2.1047 - accuracy: 0.2386 - val_loss: 2.0179 - val_accuracy: 0.2258\n",
      "Epoch 4/50\n",
      "13/13 [==============================] - 7s 565ms/step - loss: 1.9814 - accuracy: 0.2765 - val_loss: 2.0495 - val_accuracy: 0.1629\n",
      "Epoch 5/50\n",
      "13/13 [==============================] - 8s 590ms/step - loss: 1.9235 - accuracy: 0.3409 - val_loss: 2.4600 - val_accuracy: 0.1075\n",
      "Epoch 6/50\n",
      "13/13 [==============================] - 7s 573ms/step - loss: 1.8659 - accuracy: 0.3144 - val_loss: 2.2022 - val_accuracy: 0.1716\n",
      "Epoch 7/50\n",
      "13/13 [==============================] - 7s 581ms/step - loss: 1.7983 - accuracy: 0.3535 - val_loss: 2.0591 - val_accuracy: 0.1835\n",
      "Epoch 8/50\n",
      "13/13 [==============================] - 8s 590ms/step - loss: 1.7723 - accuracy: 0.3775 - val_loss: 2.1196 - val_accuracy: 0.1944\n",
      "Epoch 9/50\n",
      "13/13 [==============================] - 7s 571ms/step - loss: 1.6543 - accuracy: 0.4306 - val_loss: 2.3439 - val_accuracy: 0.1390\n",
      "Epoch 10/50\n",
      "13/13 [==============================] - 8s 604ms/step - loss: 1.6961 - accuracy: 0.4003 - val_loss: 1.5066 - val_accuracy: 0.4517\n",
      "Epoch 11/50\n",
      "13/13 [==============================] - 7s 572ms/step - loss: 1.6262 - accuracy: 0.4331 - val_loss: 1.9838 - val_accuracy: 0.2215\n",
      "Epoch 12/50\n",
      "13/13 [==============================] - 8s 613ms/step - loss: 1.5528 - accuracy: 0.4760 - val_loss: 2.4554 - val_accuracy: 0.1618\n",
      "Epoch 13/50\n",
      "13/13 [==============================] - 8s 610ms/step - loss: 1.5211 - accuracy: 0.4596 - val_loss: 1.7973 - val_accuracy: 0.2899\n",
      "Epoch 14/50\n",
      "13/13 [==============================] - 7s 556ms/step - loss: 1.4609 - accuracy: 0.4899 - val_loss: 2.0007 - val_accuracy: 0.2465\n",
      "Epoch 15/50\n",
      "13/13 [==============================] - 7s 593ms/step - loss: 1.4566 - accuracy: 0.5076 - val_loss: 1.7449 - val_accuracy: 0.3138\n",
      "Epoch 16/50\n",
      "13/13 [==============================] - 7s 587ms/step - loss: 1.4489 - accuracy: 0.4924 - val_loss: 1.9799 - val_accuracy: 0.2421\n",
      "Epoch 17/50\n",
      "13/13 [==============================] - 8s 620ms/step - loss: 1.3707 - accuracy: 0.5227 - val_loss: 1.9740 - val_accuracy: 0.2693\n",
      "Epoch 18/50\n",
      "13/13 [==============================] - 8s 601ms/step - loss: 1.3676 - accuracy: 0.5114 - val_loss: 1.7162 - val_accuracy: 0.3876\n",
      "Epoch 19/50\n",
      "13/13 [==============================] - 7s 567ms/step - loss: 1.2818 - accuracy: 0.5657 - val_loss: 1.5945 - val_accuracy: 0.3909\n",
      "Epoch 20/50\n",
      "13/13 [==============================] - 7s 594ms/step - loss: 1.2830 - accuracy: 0.5568 - val_loss: 1.8458 - val_accuracy: 0.3062\n",
      "Epoch 21/50\n",
      "13/13 [==============================] - 8s 604ms/step - loss: 1.2252 - accuracy: 0.5442 - val_loss: 2.2279 - val_accuracy: 0.2367\n",
      "Epoch 22/50\n",
      "13/13 [==============================] - 7s 577ms/step - loss: 1.1959 - accuracy: 0.5833 - val_loss: 2.2873 - val_accuracy: 0.2280\n",
      "Epoch 23/50\n",
      "13/13 [==============================] - 8s 605ms/step - loss: 1.1575 - accuracy: 0.5884 - val_loss: 2.5339 - val_accuracy: 0.2465\n",
      "Epoch 24/50\n",
      "13/13 [==============================] - 7s 571ms/step - loss: 1.1733 - accuracy: 0.5922 - val_loss: 2.8139 - val_accuracy: 0.1965\n",
      "Epoch 25/50\n",
      "13/13 [==============================] - 7s 593ms/step - loss: 1.0884 - accuracy: 0.6111 - val_loss: 1.7847 - val_accuracy: 0.3702\n",
      "Epoch 26/50\n",
      "13/13 [==============================] - 7s 591ms/step - loss: 1.1340 - accuracy: 0.6187 - val_loss: 2.2277 - val_accuracy: 0.2758\n",
      "Epoch 27/50\n",
      "13/13 [==============================] - 7s 583ms/step - loss: 1.0305 - accuracy: 0.6351 - val_loss: 1.8769 - val_accuracy: 0.3464\n",
      "Epoch 28/50\n",
      "13/13 [==============================] - 8s 619ms/step - loss: 1.0397 - accuracy: 0.6364 - val_loss: 2.2791 - val_accuracy: 0.2725\n",
      "Epoch 29/50\n",
      "13/13 [==============================] - 8s 634ms/step - loss: 1.0111 - accuracy: 0.6465 - val_loss: 2.0138 - val_accuracy: 0.3431\n",
      "Epoch 30/50\n",
      "13/13 [==============================] - 7s 593ms/step - loss: 1.0145 - accuracy: 0.6465 - val_loss: 2.1881 - val_accuracy: 0.3062\n",
      "Epoch 31/50\n",
      "13/13 [==============================] - 7s 606ms/step - loss: 0.9612 - accuracy: 0.6667 - val_loss: 2.1214 - val_accuracy: 0.3485\n",
      "Epoch 32/50\n",
      "13/13 [==============================] - 7s 586ms/step - loss: 0.9580 - accuracy: 0.6730 - val_loss: 2.1655 - val_accuracy: 0.3149\n",
      "Epoch 33/50\n",
      "13/13 [==============================] - 9s 743ms/step - loss: 0.9325 - accuracy: 0.6641 - val_loss: 2.0686 - val_accuracy: 0.3637\n",
      "Epoch 34/50\n",
      "13/13 [==============================] - 9s 722ms/step - loss: 0.9008 - accuracy: 0.6755 - val_loss: 1.8931 - val_accuracy: 0.4061\n",
      "Epoch 35/50\n",
      "13/13 [==============================] - 8s 617ms/step - loss: 0.8049 - accuracy: 0.7222 - val_loss: 2.2814 - val_accuracy: 0.3246\n",
      "Epoch 36/50\n",
      "13/13 [==============================] - 8s 630ms/step - loss: 0.8744 - accuracy: 0.6957 - val_loss: 2.0222 - val_accuracy: 0.4017\n",
      "Epoch 37/50\n",
      "13/13 [==============================] - 7s 579ms/step - loss: 0.8319 - accuracy: 0.7134 - val_loss: 2.5091 - val_accuracy: 0.2986\n",
      "Epoch 38/50\n",
      "13/13 [==============================] - 8s 601ms/step - loss: 0.7613 - accuracy: 0.7273 - val_loss: 2.2320 - val_accuracy: 0.3409\n",
      "Epoch 39/50\n",
      "13/13 [==============================] - 7s 587ms/step - loss: 0.7911 - accuracy: 0.7311 - val_loss: 2.4024 - val_accuracy: 0.3431\n",
      "Epoch 40/50\n",
      "13/13 [==============================] - 8s 595ms/step - loss: 0.7265 - accuracy: 0.7588 - val_loss: 2.9248 - val_accuracy: 0.2845\n",
      "Epoch 41/50\n",
      "13/13 [==============================] - 8s 603ms/step - loss: 0.7759 - accuracy: 0.7500 - val_loss: 2.0397 - val_accuracy: 0.3811\n",
      "Epoch 42/50\n",
      "13/13 [==============================] - 7s 582ms/step - loss: 0.7135 - accuracy: 0.7449 - val_loss: 2.2090 - val_accuracy: 0.3724\n",
      "Epoch 43/50\n",
      "13/13 [==============================] - 8s 606ms/step - loss: 0.6405 - accuracy: 0.7740 - val_loss: 2.4565 - val_accuracy: 0.3474\n",
      "Epoch 44/50\n",
      "13/13 [==============================] - 7s 576ms/step - loss: 0.6946 - accuracy: 0.7614 - val_loss: 2.0897 - val_accuracy: 0.3713\n",
      "Epoch 45/50\n",
      "13/13 [==============================] - 8s 596ms/step - loss: 0.6874 - accuracy: 0.7689 - val_loss: 2.2287 - val_accuracy: 0.3681\n",
      "Epoch 46/50\n",
      "13/13 [==============================] - 8s 619ms/step - loss: 0.6640 - accuracy: 0.7702 - val_loss: 2.5269 - val_accuracy: 0.3496\n",
      "Epoch 47/50\n",
      "13/13 [==============================] - 7s 570ms/step - loss: 0.5949 - accuracy: 0.7942 - val_loss: 1.7643 - val_accuracy: 0.4832\n",
      "Epoch 48/50\n",
      "13/13 [==============================] - 8s 657ms/step - loss: 0.5785 - accuracy: 0.7854 - val_loss: 2.1895 - val_accuracy: 0.3952\n",
      "Epoch 49/50\n",
      "13/13 [==============================] - 7s 582ms/step - loss: 0.5922 - accuracy: 0.7828 - val_loss: 1.9492 - val_accuracy: 0.4300\n",
      "Epoch 50/50\n",
      "13/13 [==============================] - 8s 598ms/step - loss: 0.6015 - accuracy: 0.7816 - val_loss: 3.0973 - val_accuracy: 0.3008\n"
     ]
    },
    {
     "data": {
      "text/plain": [
       "<keras.src.callbacks.History at 0x1bcd13d1190>"
      ]
     },
     "execution_count": 6,
     "metadata": {},
     "output_type": "execute_result"
    }
   ],
   "source": [
    "cnn.fit(x = training_set , validation_data = test_set , epochs = 50)"
   ]
  },
  {
   "cell_type": "code",
   "execution_count": 8,
   "id": "dd6dafe8",
   "metadata": {
    "scrolled": true
   },
   "outputs": [
    {
     "name": "stdout",
     "output_type": "stream",
     "text": [
      "1/1 [==============================] - 0s 17ms/step\n",
      "[[0. 0. 1. 0. 0. 0. 0. 0. 0.]]\n",
      "2\n",
      "Baklava\n",
      "Not Bibimbap\n"
     ]
    }
   ],
   "source": [
    "# Load and preprocess the test image\n",
    "test_image = tf.keras.utils.load_img(\"C:\\\\Users\\\\divya\\\\Desktop\\\\baklava.jpeg\", target_size=(64, 64))\n",
    "test_image = tf.keras.utils.img_to_array(test_image)\n",
    "test_image = np.expand_dims(test_image, axis=0)\n",
    "\n",
    "# Make a prediction\n",
    "result = cnn.predict(test_image)\n",
    "print(result)\n",
    "\n",
    "# Map the prediction to class labels\n",
    "class_labels = [\n",
    "    'Apple Pie', 'Baby Back Ribs','Baklava','Beef Carpaccio',\n",
    "    'Beef Tartare', 'Beef Salad', 'Beignets', 'Bibimbap', 'Bread Pudding'\n",
    "]\n",
    "\n",
    "# Find the index with the highest probability\n",
    "predicted_class_index = np.argmax(result)\n",
    "print(predicted_class_index)\n",
    "predicted_class_label = class_labels[predicted_class_index]\n",
    "print(predicted_class_label)\n",
    "\n",
    "# Print the predicted class label as \"Bibimbap\" if the predicted index is 7\n",
    "if predicted_class_index == 7:\n",
    "    print(\"Bibimbap\")\n",
    "else:\n",
    "    print(\"Not Bibimbap\")\n"
   ]
  },
  {
   "cell_type": "code",
   "execution_count": 10,
   "id": "23174a54",
   "metadata": {},
   "outputs": [
    {
     "name": "stdout",
     "output_type": "stream",
     "text": [
      "1/1 [==============================] - 0s 38ms/step\n",
      "[[0. 0. 1. 0. 0. 0. 0. 0. 0.]]\n"
     ]
    },
    {
     "data": {
      "image/png": "[encoded data removed]",
      "text/plain": [
       "<Figure size 640x480 with 1 Axes>"
      ]
     },
     "metadata": {},
     "output_type": "display_data"
    }
   ],
   "source": [
    "import matplotlib.pyplot as plt\n",
    "from tensorflow.keras.preprocessing import image\n",
    "\n",
    "# Load and preprocess the test image\n",
    "test_image = tf.keras.utils.load_img(\"C:\\\\Users\\\\divya\\\\Desktop\\\\baklava.jpeg\", target_size=(64, 64))\n",
    "test_image_array = tf.keras.utils.img_to_array(test_image)\n",
    "test_image_array = np.expand_dims(test_image_array, axis=0)\n",
    "\n",
    "# Make a prediction\n",
    "result = cnn.predict(test_image_array)\n",
    "print(result)\n",
    "\n",
    "# Map the prediction to class labels\n",
    "class_labels = [\n",
    "    'Apple Pie', 'Baby Back Ribs','Baklava','Beef Carpaccio',\n",
    "    'Beef Tartare', 'Beef Salad', 'Beignets', 'Bibimbap', 'Bread Pudding'\n",
    "]\n",
    "\n",
    "# Find the index with the highest probability\n",
    "predicted_class_index = np.argmax(result)\n",
    "\n",
    "# Get the predicted class label\n",
    "predicted_class_label = class_labels[predicted_class_index]\n",
    "\n",
    "# Visualize the image and prediction\n",
    "plt.imshow(test_image)\n",
    "plt.title(f'Prediction: {predicted_class_label}\\nProbability: {result[0][predicted_class_index]:.2f}')\n",
    "plt.show()\n"
   ]
  },
  {
   "cell_type": "code",
   "execution_count": null,
   "id": "e4580660",
   "metadata": {},
   "outputs": [],
   "source": []
  }
 ],
 "metadata": {
  "kernelspec": {
   "display_name": "Python 3 (ipykernel)",
   "language": "python",
   "name": "python3"
  },
  "language_info": {
   "codemirror_mode": {
    "name": "ipython",
    "version": 3
   },
   "file_extension": ".py",
   "mimetype": "text/x-python",
   "name": "python",
   "nbconvert_exporter": "python",
   "pygments_lexer": "ipython3",
   "version": "3.11.5"
  }
 },
 "nbformat": 4,
 "nbformat_minor": 5
}
